{
 "cells": [
  {
   "cell_type": "markdown",
   "metadata": {},
   "source": [
    "# Intro to SQLAlchemy and Gevent\n",
    "The following code was written to use the pgbench database. In this case it was created with the following command: pgbench -i -s 400 pgbench. The timings in this file were from a Retina Macbook Pro 2017 with an i5 running at 2.5Ghz and 8GB of RAM."
   ]
  },
  {
   "cell_type": "code",
   "execution_count": 1,
   "metadata": {},
   "outputs": [],
   "source": [
    "from sqlalchemy import MetaData, create_engine\n",
    "metadata = MetaData()\n",
    "engine = create_engine('postgresql+psycopg2://jasonmyers@localhost:5432/pgbench')"
   ]
  },
  {
   "cell_type": "code",
   "execution_count": 2,
   "metadata": {},
   "outputs": [],
   "source": [
    "from sqlalchemy import Table\n",
    "pgbench_accounts = Table('pgbench_accounts', metadata, autoload=True, autoload_with=engine)\n",
    "pgbench_tellers = Table('pgbench_tellers', metadata, autoload=True, autoload_with=engine)\n",
    "pgbench_branches = Table('pgbench_branches', metadata, autoload=True, autoload_with=engine)"
   ]
  },
  {
   "cell_type": "code",
   "execution_count": 4,
   "metadata": {},
   "outputs": [],
   "source": [
    "from sqlalchemy import select, func"
   ]
  },
  {
   "cell_type": "code",
   "execution_count": 5,
   "metadata": {},
   "outputs": [],
   "source": [
    "query1 = select([pgbench_tellers])\n",
    "query2 = select([pgbench_accounts.c.bid, func.count(1)]).group_by(pgbench_accounts.c.bid)\n",
    "query3 = select([pgbench_branches])\n",
    "query4 = select([pgbench_accounts.c.bid]).distinct()\n",
    "query5 = select([pgbench_accounts]).limit(1000)\n",
    "query6 = select([pgbench_accounts.c.bid, func.count(1)]\n",
    "               ).group_by(pgbench_accounts.c.bid).limit(5000)\n",
    "\n",
    "queries = [query1, query2, query3, query4, query5, query6]"
   ]
  },
  {
   "cell_type": "code",
   "execution_count": 6,
   "metadata": {},
   "outputs": [],
   "source": [
    "def execute_six_queries():\n",
    "    results = {}\n",
    "    for idx, query in enumerate(queries):\n",
    "        conn = engine.connect()\n",
    "        results[idx] = conn.execute(query).fetchall()"
   ]
  },
  {
   "cell_type": "code",
   "execution_count": 8,
   "metadata": {},
   "outputs": [
    {
     "name": "stdout",
     "output_type": "stream",
     "text": [
      "CPU times: user 11.4 ms, sys: 3.65 ms, total: 15 ms\n",
      "Wall time: 57 s\n"
     ]
    }
   ],
   "source": [
    "%%time \n",
    "execute_six_queries()"
   ]
  },
  {
   "cell_type": "code",
   "execution_count": 10,
   "metadata": {},
   "outputs": [],
   "source": [
    "import psycopg2\n",
    "from psycopg2 import extensions\n",
    "\n",
    "from gevent.socket import wait_read, wait_write\n",
    "\n",
    "def make_psycopg_green():\n",
    "    \"\"\"Configure Psycopg to be used with gevent in non-blocking way.\"\"\"\n",
    "    if not hasattr(extensions, 'set_wait_callback'):\n",
    "        raise ImportError(\n",
    "            \"support for coroutines not available in this Psycopg version (%s)\"\n",
    "            % psycopg2.__version__)\n",
    "\n",
    "    extensions.set_wait_callback(gevent_wait_callback)\n",
    "\n",
    "def gevent_wait_callback(conn, timeout=None):\n",
    "    \"\"\"A wait callback useful to allow gevent to work with Psycopg.\"\"\"\n",
    "    while True:\n",
    "        state = conn.poll()\n",
    "        if state == extensions.POLL_OK:\n",
    "            break\n",
    "        elif state == extensions.POLL_READ:\n",
    "            wait_read(conn.fileno(), timeout=timeout)\n",
    "        elif state == extensions.POLL_WRITE:\n",
    "            wait_write(conn.fileno(), timeout=timeout)\n",
    "        else:\n",
    "            raise psycopg2.OperationalError(\n",
    "                \"Bad result from poll: %r\" % state)"
   ]
  },
  {
   "cell_type": "code",
   "execution_count": 12,
   "metadata": {},
   "outputs": [],
   "source": [
    "import gevent\n",
    "from gevent.queue import JoinableQueue, Queue\n",
    "\n",
    "class QueryPool(object):\n",
    "    def __init__(self, queries, pool_size=5):\n",
    "        self.queries = queries\n",
    "        self.POOL_MAX = pool_size\n",
    "        self.tasks = JoinableQueue()\n",
    "        self.output_queue = Queue()\n",
    "\n",
    "    def __query(self, query):\n",
    "        conn = engine.connect()\n",
    "        results = conn.execute(query).fetchall()\n",
    "        return results\n",
    "\n",
    "    def executor(self, number):\n",
    "        while not self.tasks.empty():\n",
    "            query = self.tasks.get()\n",
    "            try:\n",
    "                results = self.__query(query)\n",
    "                self.output_queue.put(results)\n",
    "            except Exception as exc_info:\n",
    "                print(exc_info)\n",
    "            self.tasks.task_done()\n",
    "\n",
    "    def overseer(self):\n",
    "        for query in self.queries:\n",
    "            self.tasks.put(query)\n",
    "\n",
    "    def run(self):\n",
    "        self.running = []\n",
    "        gevent.spawn(self.overseer).join()\n",
    "        for i in range(self.POOL_MAX):\n",
    "            runner = gevent.spawn(self.executor, i)\n",
    "            runner.start()\n",
    "            self.running.append(runner)\n",
    "\n",
    "        self.tasks.join()\n",
    "        for runner in self.running:\n",
    "            runner.kill()"
   ]
  },
  {
   "cell_type": "code",
   "execution_count": 13,
   "metadata": {},
   "outputs": [],
   "source": [
    "make_psycopg_green()"
   ]
  },
  {
   "cell_type": "code",
   "execution_count": 14,
   "metadata": {},
   "outputs": [
    {
     "name": "stdout",
     "output_type": "stream",
     "text": [
      "CPU times: user 15.9 ms, sys: 5.24 ms, total: 21.1 ms\n",
      "Wall time: 30 s\n"
     ]
    }
   ],
   "source": [
    "%%time\n",
    "QueryPool(queries).run()"
   ]
  },
  {
   "cell_type": "code",
   "execution_count": 15,
   "metadata": {},
   "outputs": [
    {
     "name": "stdout",
     "output_type": "stream",
     "text": [
      "CPU times: user 15.2 ms, sys: 4.79 ms, total: 20 ms\n",
      "Wall time: 31.4 s\n"
     ]
    }
   ],
   "source": [
    "%%time\n",
    "QueryPool(queries, 3).run()"
   ]
  },
  {
   "cell_type": "code",
   "execution_count": 16,
   "metadata": {},
   "outputs": [
    {
     "name": "stdout",
     "output_type": "stream",
     "text": [
      "CPU times: user 13.3 ms, sys: 3.76 ms, total: 17 ms\n",
      "Wall time: 49.7 s\n"
     ]
    }
   ],
   "source": [
    "%%time\n",
    "QueryPool(queries, 2).run()"
   ]
  },
  {
   "cell_type": "code",
   "execution_count": 17,
   "metadata": {},
   "outputs": [
    {
     "name": "stdout",
     "output_type": "stream",
     "text": [
      "CPU times: user 14.7 ms, sys: 4.75 ms, total: 19.5 ms\n",
      "Wall time: 27.5 s\n"
     ]
    }
   ],
   "source": [
    "%%time\n",
    "QueryPool(queries, 6).run()"
   ]
  },
  {
   "cell_type": "code",
   "execution_count": null,
   "metadata": {},
   "outputs": [],
   "source": []
  }
 ],
 "metadata": {
  "kernelspec": {
   "display_name": "Python 3",
   "language": "python",
   "name": "python3"
  },
  "language_info": {
   "codemirror_mode": {
    "name": "ipython",
    "version": 3
   },
   "file_extension": ".py",
   "mimetype": "text/x-python",
   "name": "python",
   "nbconvert_exporter": "python",
   "pygments_lexer": "ipython3",
   "version": "3.6.4"
  }
 },
 "nbformat": 4,
 "nbformat_minor": 2
}
